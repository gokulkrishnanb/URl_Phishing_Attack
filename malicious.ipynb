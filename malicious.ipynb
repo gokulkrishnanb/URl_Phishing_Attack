{
 "cells": [
  {
   "cell_type": "code",
   "execution_count": 1,
   "id": "ca2107ae",
   "metadata": {},
   "outputs": [],
   "source": [
    "import numpy as np\n",
    "import pandas as pd"
   ]
  },
  {
   "cell_type": "code",
   "execution_count": 4,
   "id": "44bf5eeb",
   "metadata": {},
   "outputs": [],
   "source": [
    "\n",
    "\n",
    "malicious = pd.read_excel(r'C:\\Users\\nivet\\Downloads\\petsi project\\mal.xlsx')\n"
   ]
  },
  {
   "cell_type": "code",
   "execution_count": 5,
   "id": "306e1c7d",
   "metadata": {},
   "outputs": [
    {
     "data": {
      "text/html": [
       "<div>\n",
       "<style scoped>\n",
       "    .dataframe tbody tr th:only-of-type {\n",
       "        vertical-align: middle;\n",
       "    }\n",
       "\n",
       "    .dataframe tbody tr th {\n",
       "        vertical-align: top;\n",
       "    }\n",
       "\n",
       "    .dataframe thead th {\n",
       "        text-align: right;\n",
       "    }\n",
       "</style>\n",
       "<table border=\"1\" class=\"dataframe\">\n",
       "  <thead>\n",
       "    <tr style=\"text-align: right;\">\n",
       "      <th></th>\n",
       "      <th>url</th>\n",
       "      <th>type</th>\n",
       "    </tr>\n",
       "  </thead>\n",
       "  <tbody>\n",
       "    <tr>\n",
       "      <th>0</th>\n",
       "      <td>br-icloud.com.br</td>\n",
       "      <td>phishing</td>\n",
       "    </tr>\n",
       "    <tr>\n",
       "      <th>1</th>\n",
       "      <td>mp3raid.com/music/krizz_kaliko.html</td>\n",
       "      <td>benign</td>\n",
       "    </tr>\n",
       "    <tr>\n",
       "      <th>2</th>\n",
       "      <td>bopsecrets.org/rexroth/cr/1.htm</td>\n",
       "      <td>benign</td>\n",
       "    </tr>\n",
       "    <tr>\n",
       "      <th>3</th>\n",
       "      <td>http://www.garage-pirenne.be/index.php?option=...</td>\n",
       "      <td>defacement</td>\n",
       "    </tr>\n",
       "    <tr>\n",
       "      <th>4</th>\n",
       "      <td>http://adventure-nicaragua.net/index.php?optio...</td>\n",
       "      <td>defacement</td>\n",
       "    </tr>\n",
       "    <tr>\n",
       "      <th>...</th>\n",
       "      <td>...</td>\n",
       "      <td>...</td>\n",
       "    </tr>\n",
       "    <tr>\n",
       "      <th>994</th>\n",
       "      <td>be.linkedin.com/pub/jan-roels/27/141/746</td>\n",
       "      <td>benign</td>\n",
       "    </tr>\n",
       "    <tr>\n",
       "      <th>995</th>\n",
       "      <td>youtube.com/watch?v=EcGsM-PNQHQ</td>\n",
       "      <td>benign</td>\n",
       "    </tr>\n",
       "    <tr>\n",
       "      <th>996</th>\n",
       "      <td>bloomberg.com/news/2011-08-28/dust-bowl-in-tex...</td>\n",
       "      <td>benign</td>\n",
       "    </tr>\n",
       "    <tr>\n",
       "      <th>997</th>\n",
       "      <td>http://www.slavia.sk/home</td>\n",
       "      <td>defacement</td>\n",
       "    </tr>\n",
       "    <tr>\n",
       "      <th>998</th>\n",
       "      <td>innerearbrigade.com/</td>\n",
       "      <td>benign</td>\n",
       "    </tr>\n",
       "  </tbody>\n",
       "</table>\n",
       "<p>999 rows × 2 columns</p>\n",
       "</div>"
      ],
      "text/plain": [
       "                                                   url        type\n",
       "0                                     br-icloud.com.br    phishing\n",
       "1                  mp3raid.com/music/krizz_kaliko.html      benign\n",
       "2                      bopsecrets.org/rexroth/cr/1.htm      benign\n",
       "3    http://www.garage-pirenne.be/index.php?option=...  defacement\n",
       "4    http://adventure-nicaragua.net/index.php?optio...  defacement\n",
       "..                                                 ...         ...\n",
       "994           be.linkedin.com/pub/jan-roels/27/141/746      benign\n",
       "995                    youtube.com/watch?v=EcGsM-PNQHQ      benign\n",
       "996  bloomberg.com/news/2011-08-28/dust-bowl-in-tex...      benign\n",
       "997                          http://www.slavia.sk/home  defacement\n",
       "998                               innerearbrigade.com/      benign\n",
       "\n",
       "[999 rows x 2 columns]"
      ]
     },
     "execution_count": 5,
     "metadata": {},
     "output_type": "execute_result"
    }
   ],
   "source": [
    "malicious"
   ]
  },
  {
   "cell_type": "code",
   "execution_count": 6,
   "id": "9d4821d5",
   "metadata": {},
   "outputs": [
    {
     "data": {
      "text/plain": [
       "(999, 2)"
      ]
     },
     "execution_count": 6,
     "metadata": {},
     "output_type": "execute_result"
    }
   ],
   "source": [
    "malicious.shape"
   ]
  },
  {
   "cell_type": "code",
   "execution_count": 7,
   "id": "962aa1ed",
   "metadata": {},
   "outputs": [
    {
     "name": "stdout",
     "output_type": "stream",
     "text": [
      "<class 'pandas.core.frame.DataFrame'>\n",
      "RangeIndex: 999 entries, 0 to 998\n",
      "Data columns (total 2 columns):\n",
      " #   Column  Non-Null Count  Dtype \n",
      "---  ------  --------------  ----- \n",
      " 0   url     999 non-null    object\n",
      " 1   type    999 non-null    object\n",
      "dtypes: object(2)\n",
      "memory usage: 15.7+ KB\n"
     ]
    }
   ],
   "source": [
    "malicious.info()"
   ]
  },
  {
   "cell_type": "code",
   "execution_count": 8,
   "id": "3415228d",
   "metadata": {},
   "outputs": [
    {
     "data": {
      "text/plain": [
       "Index(['url', 'type'], dtype='object')"
      ]
     },
     "execution_count": 8,
     "metadata": {},
     "output_type": "execute_result"
    }
   ],
   "source": [
    "malicious.columns"
   ]
  },
  {
   "cell_type": "code",
   "execution_count": 9,
   "id": "9f201ad1",
   "metadata": {},
   "outputs": [],
   "source": [
    "malicious['url'].fillna('url', inplace=True)\n"
   ]
  },
  {
   "cell_type": "code",
   "execution_count": 10,
   "id": "86f46456",
   "metadata": {},
   "outputs": [],
   "source": [
    "malicious['type'].fillna('type', inplace=True)\n"
   ]
  },
  {
   "cell_type": "code",
   "execution_count": 11,
   "id": "87148c8c",
   "metadata": {},
   "outputs": [
    {
     "data": {
      "text/plain": [
       "url     0\n",
       "type    0\n",
       "dtype: int64"
      ]
     },
     "execution_count": 11,
     "metadata": {},
     "output_type": "execute_result"
    }
   ],
   "source": [
    "malicious.isnull().sum()"
   ]
  },
  {
   "cell_type": "code",
   "execution_count": 12,
   "id": "d0a42f8a",
   "metadata": {},
   "outputs": [
    {
     "data": {
      "text/plain": [
       "array([105, 742, 104, 511, 339, 355, 231, 983, 562,  29, 164, 526, 765,\n",
       "       537, 593, 397, 813, 779, 926, 604,  77, 852,   1, 780, 229, 862,\n",
       "       132, 386, 540, 218, 859, 796, 720, 959, 938, 422, 740, 170, 464,\n",
       "       570, 613, 811, 642,  59, 639, 879, 371, 867, 970, 391, 556, 530,\n",
       "        31, 298, 136, 822, 692, 884,  17, 169, 471, 580, 939, 146,  14,\n",
       "       529, 549, 821, 547, 626, 794, 786, 824,  21, 663, 670, 697, 913,\n",
       "        60, 108, 565, 289, 993, 719, 138, 293, 349, 541, 800, 869, 561,\n",
       "       376, 270, 189,  22, 462, 474, 214, 433, 602, 147, 568, 638, 687,\n",
       "       515, 254, 480, 239, 110, 623, 310, 479, 878, 696, 388, 327,  94,\n",
       "       483,  58, 790, 649, 111, 851, 202, 596, 767, 311, 406, 724, 616,\n",
       "       360, 415, 465, 745, 312, 752, 778, 560, 973, 494, 438, 252, 873,\n",
       "       788, 744, 695, 594, 357, 690, 165, 618, 427, 845, 877, 217, 749,\n",
       "       335, 772, 831, 259, 410,  11, 506, 599, 989, 764, 466, 162, 400,\n",
       "       490, 739, 627, 941,  51, 795, 295,  12, 210,  20, 309, 401, 817,\n",
       "        54,   0, 931, 244, 841, 370, 709, 563, 286, 885, 718, 431, 120,\n",
       "       127,  47, 134, 177, 399, 320, 712, 799, 774, 991, 675, 802, 436,\n",
       "       319, 249, 322, 785, 330, 528,  62, 600, 758, 730, 972, 650, 197,\n",
       "       381, 267, 137, 711, 313, 261, 904, 918, 933, 274,  25, 641, 855,\n",
       "       762, 228, 152, 444, 372, 746, 358, 722, 751, 334, 230,  95, 150,\n",
       "       262, 300, 726, 914, 587, 277, 550, 880, 395, 558, 446, 888, 883,\n",
       "       503, 232, 682, 548,  80, 192, 273, 142, 275, 302, 789,  74,  91,\n",
       "       175, 866, 434, 193,  86, 664, 408, 837, 652, 378, 818, 505, 346,\n",
       "       590, 367, 129, 517, 246, 897, 157,  67, 829, 253, 907, 586, 470,\n",
       "       359, 168, 473, 534, 621, 995, 222, 581, 544, 714, 294,  71, 203,\n",
       "       766,  85, 871, 417, 988, 148, 770, 920,  57,  97, 184,  49, 354,\n",
       "       424, 707, 886, 625, 577, 278, 366, 768, 610, 781, 678, 443, 575,\n",
       "       321, 337, 413, 900, 115,  46, 258, 698, 636, 840, 945,  68, 219,\n",
       "       396, 423, 502, 574, 571,   8, 894, 263, 912, 743,  42,   4, 345,\n",
       "       375, 514, 190, 693, 282, 573, 909, 332, 915,  28, 823, 844, 256,\n",
       "       126, 930, 747, 583, 226, 797, 153, 439, 946, 477, 936, 478, 881,\n",
       "       721, 380, 655, 539, 223, 643, 459, 694, 174, 460, 665, 951, 582,\n",
       "       403, 819,  44, 532, 510, 377, 925,  13, 681, 280,  79, 732, 158,\n",
       "       882, 609, 171, 633, 964, 195, 589, 807, 836, 557, 763, 605, 803,\n",
       "       316, 905, 804, 268, 255, 257, 756,  72, 248, 661, 432, 382, 451,\n",
       "       630, 116,   3, 457, 657, 700, 167, 496, 326, 861, 361, 910,  55,\n",
       "       241,  75,  23, 857, 373, 182, 247, 353, 679, 666,  70, 760, 688,\n",
       "       592, 430, 986, 887, 389,  16,  30, 735, 961, 903, 569, 734, 669,\n",
       "       455, 318, 899, 113, 523, 755, 117, 757, 830,  10, 615, 199, 336,\n",
       "       141, 793, 965, 916, 990,  56, 631, 440,  41, 901, 188, 981, 731,\n",
       "       733, 947, 486, 426,  76, 974, 172, 143, 704, 285,  36, 279, 160,\n",
       "       843, 997, 689, 839, 554, 363, 864, 350, 611, 420, 390, 166, 333,\n",
       "       552, 107, 662, 816, 651, 677,  63, 159, 191, 296, 201, 437, 584,\n",
       "       929, 251, 536, 538, 468, 668, 209, 708,  37,  27, 967, 787, 225,\n",
       "       672, 144, 343, 640, 660, 297, 968, 919, 545, 299, 250, 738, 497,\n",
       "       572, 622, 949, 284, 725, 559, 834, 154, 984, 213, 674, 236, 374,\n",
       "       416, 224, 791, 603, 428, 860, 685, 245, 659, 966, 686, 405, 242,\n",
       "       982, 441, 272, 139, 533, 123, 943, 806, 928, 200, 365, 773, 112,\n",
       "       782, 394, 283, 493,  66, 805,  88,   5, 216, 932, 948, 525, 870,\n",
       "       501, 435, 717, 597, 392, 893, 671, 748,  34, 551, 100,  33,  53,\n",
       "       924, 411, 131, 923, 484, 292, 736, 895, 233, 612, 227, 576, 846,\n",
       "       125, 706, 827,  93, 476, 344, 364, 149, 205, 848, 555, 393, 454,\n",
       "       591,  48, 595, 911, 304, 976, 509, 892, 208, 703, 185, 775, 601,\n",
       "       853,  45, 902, 520, 531, 351, 606, 187, 702, 769, 784, 710, 566,\n",
       "       942, 456, 994, 950, 128, 198, 783, 448, 608, 647, 487,  39, 917,\n",
       "       723, 504, 644, 891, 243, 461, 469, 305, 978, 620, 634, 889, 508,\n",
       "       808,  43, 607, 181, 301, 699, 495, 518, 890, 828, 348, 179,  73,\n",
       "       507,  32, 856, 266, 896, 833, 368,  64, 271, 269, 481, 235, 442,\n",
       "       750, 140,   2, 180, 124,  19,  82, 737, 445, 729, 314, 402, 133,\n",
       "        98, 151, 109, 792, 985,   7,  61, 667, 935, 673,  84, 927, 628,\n",
       "       958, 513, 178, 728,  35, 614, 971, 114, 102, 204, 119, 535, 207,\n",
       "       875, 741, 331,  18,  89, 122, 215, 713, 617, 715, 418, 519, 676,\n",
       "       646, 524, 383, 145,  26, 684, 977, 761,  99, 957, 135, 629, 237,\n",
       "        78, 447, 648, 340, 934, 463, 656, 458, 307, 384,  50, 356,  87,\n",
       "       500, 691, 472, 996, 858, 238, 449, 315, 716, 194, 832, 521, 130,\n",
       "        90, 379, 156, 683, 499, 211, 387, 908, 701, 491, 498, 161, 624,\n",
       "       619, 812, 962, 953, 240, 407, 653, 960, 771, 196, 409, 992, 475,\n",
       "       847, 937, 809, 854, 635, 814, 453, 308, 324, 898, 754, 121, 323,\n",
       "       850, 317, 516,   9, 352, 727, 798,  65, 369, 347, 489,   6, 842,\n",
       "       512, 527, 385, 303,  38, 452, 546, 329, 980, 306, 488, 362, 220,\n",
       "       288, 963, 826, 815, 863, 777, 281, 206, 849, 542, 680, 759, 325,\n",
       "       118, 654, 921, 578, 482,  24, 954,  92, 579, 906, 485,  15,  52,\n",
       "       522, 103, 234, 753, 810, 260, 838, 922, 163, 776, 176, 412, 543,\n",
       "       106, 658, 429, 865, 567, 940, 825, 221, 637, 264, 155, 553, 212,\n",
       "       186, 467, 975, 450, 632, 876, 872, 705, 338, 341, 820,  69, 868,\n",
       "       598, 955, 956, 414, 291, 276, 588, 944, 801, 183, 492, 419, 398,\n",
       "       874,  40, 425,  83, 835, 969, 265, 173, 290, 979, 342, 421, 564,\n",
       "       328,  96, 404, 952, 287,  81, 987, 101, 585, 645])"
      ]
     },
     "execution_count": 12,
     "metadata": {},
     "output_type": "execute_result"
    }
   ],
   "source": [
    "from sklearn import preprocessing\n",
    "label_encoder=preprocessing.LabelEncoder()\n",
    "malicious['url']=label_encoder.fit_transform(malicious['url'])\n",
    "malicious['url'].unique()"
   ]
  },
  {
   "cell_type": "code",
   "execution_count": 13,
   "id": "8c3028b8",
   "metadata": {},
   "outputs": [],
   "source": [
    "x=malicious[['url']]"
   ]
  },
  {
   "cell_type": "code",
   "execution_count": 14,
   "id": "b3018237",
   "metadata": {},
   "outputs": [
    {
     "data": {
      "text/html": [
       "<div>\n",
       "<style scoped>\n",
       "    .dataframe tbody tr th:only-of-type {\n",
       "        vertical-align: middle;\n",
       "    }\n",
       "\n",
       "    .dataframe tbody tr th {\n",
       "        vertical-align: top;\n",
       "    }\n",
       "\n",
       "    .dataframe thead th {\n",
       "        text-align: right;\n",
       "    }\n",
       "</style>\n",
       "<table border=\"1\" class=\"dataframe\">\n",
       "  <thead>\n",
       "    <tr style=\"text-align: right;\">\n",
       "      <th></th>\n",
       "      <th>url</th>\n",
       "    </tr>\n",
       "  </thead>\n",
       "  <tbody>\n",
       "    <tr>\n",
       "      <th>0</th>\n",
       "      <td>105</td>\n",
       "    </tr>\n",
       "    <tr>\n",
       "      <th>1</th>\n",
       "      <td>742</td>\n",
       "    </tr>\n",
       "    <tr>\n",
       "      <th>2</th>\n",
       "      <td>104</td>\n",
       "    </tr>\n",
       "    <tr>\n",
       "      <th>3</th>\n",
       "      <td>511</td>\n",
       "    </tr>\n",
       "    <tr>\n",
       "      <th>4</th>\n",
       "      <td>339</td>\n",
       "    </tr>\n",
       "    <tr>\n",
       "      <th>...</th>\n",
       "      <td>...</td>\n",
       "    </tr>\n",
       "    <tr>\n",
       "      <th>994</th>\n",
       "      <td>81</td>\n",
       "    </tr>\n",
       "    <tr>\n",
       "      <th>995</th>\n",
       "      <td>987</td>\n",
       "    </tr>\n",
       "    <tr>\n",
       "      <th>996</th>\n",
       "      <td>101</td>\n",
       "    </tr>\n",
       "    <tr>\n",
       "      <th>997</th>\n",
       "      <td>585</td>\n",
       "    </tr>\n",
       "    <tr>\n",
       "      <th>998</th>\n",
       "      <td>645</td>\n",
       "    </tr>\n",
       "  </tbody>\n",
       "</table>\n",
       "<p>999 rows × 1 columns</p>\n",
       "</div>"
      ],
      "text/plain": [
       "     url\n",
       "0    105\n",
       "1    742\n",
       "2    104\n",
       "3    511\n",
       "4    339\n",
       "..   ...\n",
       "994   81\n",
       "995  987\n",
       "996  101\n",
       "997  585\n",
       "998  645\n",
       "\n",
       "[999 rows x 1 columns]"
      ]
     },
     "execution_count": 14,
     "metadata": {},
     "output_type": "execute_result"
    }
   ],
   "source": [
    "x"
   ]
  },
  {
   "cell_type": "code",
   "execution_count": 15,
   "id": "9084509c",
   "metadata": {},
   "outputs": [],
   "source": [
    "y=malicious[['type']]"
   ]
  },
  {
   "cell_type": "code",
   "execution_count": 16,
   "id": "023f763b",
   "metadata": {},
   "outputs": [
    {
     "data": {
      "text/html": [
       "<div>\n",
       "<style scoped>\n",
       "    .dataframe tbody tr th:only-of-type {\n",
       "        vertical-align: middle;\n",
       "    }\n",
       "\n",
       "    .dataframe tbody tr th {\n",
       "        vertical-align: top;\n",
       "    }\n",
       "\n",
       "    .dataframe thead th {\n",
       "        text-align: right;\n",
       "    }\n",
       "</style>\n",
       "<table border=\"1\" class=\"dataframe\">\n",
       "  <thead>\n",
       "    <tr style=\"text-align: right;\">\n",
       "      <th></th>\n",
       "      <th>type</th>\n",
       "    </tr>\n",
       "  </thead>\n",
       "  <tbody>\n",
       "    <tr>\n",
       "      <th>0</th>\n",
       "      <td>phishing</td>\n",
       "    </tr>\n",
       "    <tr>\n",
       "      <th>1</th>\n",
       "      <td>benign</td>\n",
       "    </tr>\n",
       "    <tr>\n",
       "      <th>2</th>\n",
       "      <td>benign</td>\n",
       "    </tr>\n",
       "    <tr>\n",
       "      <th>3</th>\n",
       "      <td>defacement</td>\n",
       "    </tr>\n",
       "    <tr>\n",
       "      <th>4</th>\n",
       "      <td>defacement</td>\n",
       "    </tr>\n",
       "    <tr>\n",
       "      <th>...</th>\n",
       "      <td>...</td>\n",
       "    </tr>\n",
       "    <tr>\n",
       "      <th>994</th>\n",
       "      <td>benign</td>\n",
       "    </tr>\n",
       "    <tr>\n",
       "      <th>995</th>\n",
       "      <td>benign</td>\n",
       "    </tr>\n",
       "    <tr>\n",
       "      <th>996</th>\n",
       "      <td>benign</td>\n",
       "    </tr>\n",
       "    <tr>\n",
       "      <th>997</th>\n",
       "      <td>defacement</td>\n",
       "    </tr>\n",
       "    <tr>\n",
       "      <th>998</th>\n",
       "      <td>benign</td>\n",
       "    </tr>\n",
       "  </tbody>\n",
       "</table>\n",
       "<p>999 rows × 1 columns</p>\n",
       "</div>"
      ],
      "text/plain": [
       "           type\n",
       "0      phishing\n",
       "1        benign\n",
       "2        benign\n",
       "3    defacement\n",
       "4    defacement\n",
       "..          ...\n",
       "994      benign\n",
       "995      benign\n",
       "996      benign\n",
       "997  defacement\n",
       "998      benign\n",
       "\n",
       "[999 rows x 1 columns]"
      ]
     },
     "execution_count": 16,
     "metadata": {},
     "output_type": "execute_result"
    }
   ],
   "source": [
    "y"
   ]
  },
  {
   "cell_type": "code",
   "execution_count": 17,
   "id": "94106572",
   "metadata": {},
   "outputs": [],
   "source": [
    "from sklearn.model_selection import train_test_split\n",
    "xtrain,xtest,ytrain,ytest=train_test_split(x,y,test_size=0.2)"
   ]
  },
  {
   "cell_type": "code",
   "execution_count": 18,
   "id": "e432df82",
   "metadata": {},
   "outputs": [
    {
     "data": {
      "text/plain": [
       "(799, 1)"
      ]
     },
     "execution_count": 18,
     "metadata": {},
     "output_type": "execute_result"
    }
   ],
   "source": [
    "xtrain.shape"
   ]
  },
  {
   "cell_type": "code",
   "execution_count": 19,
   "id": "44000756",
   "metadata": {},
   "outputs": [
    {
     "data": {
      "text/plain": [
       "(200, 1)"
      ]
     },
     "execution_count": 19,
     "metadata": {},
     "output_type": "execute_result"
    }
   ],
   "source": [
    "xtest.shape"
   ]
  },
  {
   "cell_type": "code",
   "execution_count": 20,
   "id": "5beccfcb",
   "metadata": {},
   "outputs": [
    {
     "data": {
      "text/plain": [
       "(799, 1)"
      ]
     },
     "execution_count": 20,
     "metadata": {},
     "output_type": "execute_result"
    }
   ],
   "source": [
    "ytrain.shape"
   ]
  },
  {
   "cell_type": "code",
   "execution_count": 21,
   "id": "2d887889",
   "metadata": {},
   "outputs": [
    {
     "data": {
      "text/plain": [
       "(200, 1)"
      ]
     },
     "execution_count": 21,
     "metadata": {},
     "output_type": "execute_result"
    }
   ],
   "source": [
    "ytest.shape"
   ]
  },
  {
   "cell_type": "code",
   "execution_count": 22,
   "id": "90d44188",
   "metadata": {},
   "outputs": [
    {
     "name": "stdout",
     "output_type": "stream",
     "text": [
      "0.86\n"
     ]
    },
    {
     "name": "stderr",
     "output_type": "stream",
     "text": [
      "C:\\Users\\nivet\\anaconda3\\lib\\site-packages\\sklearn\\utils\\validation.py:1229: DataConversionWarning: A column-vector y was passed when a 1d array was expected. Please change the shape of y to (n_samples, ), for example using ravel().\n",
      "  y = column_or_1d(y, warn=True)\n"
     ]
    }
   ],
   "source": [
    "from sklearn.metrics import accuracy_score\n",
    "from sklearn import svm\n",
    "clf=svm.SVC()\n",
    "clf.fit(x,y)\n",
    "ypred=clf.predict(xtest)\n",
    "score=accuracy_score(ytest,ypred)\n",
    "print(score)"
   ]
  },
  {
   "cell_type": "code",
   "execution_count": 23,
   "id": "89688ade",
   "metadata": {},
   "outputs": [
    {
     "name": "stdout",
     "output_type": "stream",
     "text": [
      "0.995\n"
     ]
    },
    {
     "name": "stderr",
     "output_type": "stream",
     "text": [
      "C:\\Users\\nivet\\anaconda3\\lib\\site-packages\\sklearn\\base.py:1351: DataConversionWarning: A column-vector y was passed when a 1d array was expected. Please change the shape of y to (n_samples,), for example using ravel().\n",
      "  return fit_method(estimator, *args, **kwargs)\n"
     ]
    }
   ],
   "source": [
    "from sklearn.metrics import accuracy_score\n",
    "from sklearn.ensemble import RandomForestClassifier\n",
    "clf = RandomForestClassifier(n_estimators=10)\n",
    "clf.fit(x,y)\n",
    "ypred=clf.predict(xtest)\n",
    "score=accuracy_score(ytest,ypred)\n",
    "print(score)"
   ]
  },
  {
   "cell_type": "code",
   "execution_count": 25,
   "id": "1f7a7716",
   "metadata": {},
   "outputs": [
    {
     "name": "stderr",
     "output_type": "stream",
     "text": [
      "C:\\Users\\nivet\\anaconda3\\lib\\site-packages\\sklearn\\base.py:493: UserWarning: X does not have valid feature names, but RandomForestClassifier was fitted with feature names\n",
      "  warnings.warn(\n"
     ]
    }
   ],
   "source": [
    "prediction=clf.predict([[105]])"
   ]
  },
  {
   "cell_type": "code",
   "execution_count": 26,
   "id": "c674944d",
   "metadata": {},
   "outputs": [
    {
     "data": {
      "text/plain": [
       "array(['phishing'], dtype=object)"
      ]
     },
     "execution_count": 26,
     "metadata": {},
     "output_type": "execute_result"
    }
   ],
   "source": [
    "prediction"
   ]
  },
  {
   "cell_type": "code",
   "execution_count": 28,
   "id": "8dd45080",
   "metadata": {},
   "outputs": [
    {
     "data": {
      "image/png": "[encoded data removed]",
      "text/plain": [
       "<Figure size 720x432 with 1 Axes>"
      ]
     },
     "metadata": {
      "needs_background": "light"
     },
     "output_type": "display_data"
    }
   ],
   "source": [
    "import matplotlib.pyplot as plt\n",
    "\n",
    "# Sample data\n",
    "categories = ['url']\n",
    "values = [105]\n",
    "\n",
    "# Create a bar chart\n",
    "plt.figure(figsize=(10, 6))\n",
    "plt.bar(categories, values, color='brown')\n",
    "\n",
    "# Add labels and title\n",
    "plt.xlabel('Categories')\n",
    "plt.ylabel('Values')\n",
    "plt.title('Sample Bar Chart')\n",
    "\n",
    "# Display the bar chart\n",
    "plt.show()"
   ]
  },
  {
   "cell_type": "code",
   "execution_count": 29,
   "id": "8adc7d1a",
   "metadata": {},
   "outputs": [],
   "source": [
    "import pickle"
   ]
  },
  {
   "cell_type": "code",
   "execution_count": 31,
   "id": "cbc91d86",
   "metadata": {},
   "outputs": [],
   "source": [
    "# Save the model to a file\n",
    "filename = r'C:\\Users\\nivet\\Downloads\\petsi project\\malicious.pickle'\n",
    "with open(filename, 'wb') as file:\n",
    "    pickle.dump(clf, file)"
   ]
  },
  {
   "cell_type": "code",
   "execution_count": 32,
   "id": "b51fe2c1",
   "metadata": {},
   "outputs": [
    {
     "name": "stdout",
     "output_type": "stream",
     "text": [
      "Model Loaded!\n"
     ]
    }
   ],
   "source": [
    "import os\n",
    "import pickle\n",
    "if os.path.isfile(r\"malicious.pkl\"):\n",
    "    print(\"File Exists\")\n",
    "else:\n",
    "    pickle.dump(clf,open(r'C:\\Users\\nivet\\Downloads\\petsi project\\malicious.pkl','wb'))\n",
    "    print(\"Model Loaded!\")"
   ]
  },
  {
   "cell_type": "code",
   "execution_count": null,
   "id": "f5fa43aa",
   "metadata": {},
   "outputs": [],
   "source": []
  }
 ],
 "metadata": {
  "kernelspec": {
   "display_name": "Python 3 (ipykernel)",
   "language": "python",
   "name": "python3"
  },
  "language_info": {
   "codemirror_mode": {
    "name": "ipython",
    "version": 3
   },
   "file_extension": ".py",
   "mimetype": "text/x-python",
   "name": "python",
   "nbconvert_exporter": "python",
   "pygments_lexer": "ipython3",
   "version": "3.9.7"
  }
 },
 "nbformat": 4,
 "nbformat_minor": 5
}
